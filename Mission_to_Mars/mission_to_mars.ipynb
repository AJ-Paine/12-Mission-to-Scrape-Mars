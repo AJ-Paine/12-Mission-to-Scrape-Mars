{
 "cells": [
  {
   "cell_type": "code",
   "execution_count": 1,
   "metadata": {},
   "outputs": [],
   "source": [
    "#Import python libraries\n",
    "from splinter import Browser\n",
    "from bs4 import BeautifulSoup as bs\n",
    "from webdriver_manager.chrome import ChromeDriverManager\n",
    "import time\n",
    "import pandas as pd"
   ]
  },
  {
   "cell_type": "code",
   "execution_count": 2,
   "metadata": {},
   "outputs": [
    {
     "name": "stderr",
     "output_type": "stream",
     "text": [
      "\n",
      "\n",
      "====== WebDriver manager ======\n",
      "Current google-chrome version is 91.0.4472\n",
      "Get LATEST driver version for 91.0.4472\n",
      "Driver [C:\\Users\\10pai\\.wdm\\drivers\\chromedriver\\win32\\91.0.4472.19\\chromedriver.exe] found in cache\n"
     ]
    }
   ],
   "source": [
    "#Setup splinter\n",
    "executable_path = {'executable_path': ChromeDriverManager().install()}\n",
    "browser = Browser('chrome', **executable_path, headless=False)"
   ]
  },
  {
   "cell_type": "code",
   "execution_count": 3,
   "metadata": {},
   "outputs": [],
   "source": [
    "#Visit mars.nasa.gov website\n",
    "nasa_url = 'https://mars.nasa.gov/news/?page=0&per_page=40&order=publish_date+desc%2Ccreated_at+desc&search=&category=19%2C165%2C184%2C204&blank_scope=Latest'\n",
    "browser.visit(nasa_url)\n",
    "\n",
    "#Add sleep to allow page to load\n",
    "time.sleep(2)\n",
    "\n",
    "#Create Beautiful Soup object to scrape most recent article\n",
    "html = browser.html\n",
    "soup = bs(html, 'html.parser')"
   ]
  },
  {
   "cell_type": "code",
   "execution_count": 4,
   "metadata": {},
   "outputs": [],
   "source": [
    "#Scrape most recent article title and description on mars from Nasa\n",
    "articles = soup.find_all('div', class_='list_text')[0]\n",
    "news_title = articles.find(class_='content_title').text\n",
    "news_p = articles.find(class_='article_teaser_body').text"
   ]
  },
  {
   "cell_type": "code",
   "execution_count": 5,
   "metadata": {},
   "outputs": [],
   "source": [
    "#Store scraped data in dictionary\n",
    "mars_dict = {\n",
    "    \"news_title\" : news_title,\n",
    "    \"news_p\": news_p\n",
    "}"
   ]
  },
  {
   "cell_type": "code",
   "execution_count": 6,
   "metadata": {},
   "outputs": [],
   "source": [
    "#Shutdown splinter instance\n",
    "browser.quit()"
   ]
  },
  {
   "cell_type": "code",
   "execution_count": 7,
   "metadata": {},
   "outputs": [],
   "source": [
    "#Set-up splinter instance\n",
    "browser = Browser('chrome', **executable_path, headless=False)\n",
    "\n",
    "#Visit data-class-jpl website\n",
    "JPL_url= 'https://data-class-jpl-space.s3.amazonaws.com/JPL_Space/index.html'\n",
    "browser.visit(JPL_url)\n",
    "\n",
    "#Create Beautiful Soup object to scrape JPL images\n",
    "html = browser.html\n",
    "soup = bs(html, 'html.parser')"
   ]
  },
  {
   "cell_type": "code",
   "execution_count": 8,
   "metadata": {},
   "outputs": [],
   "source": [
    "#Scrape featured image URL\n",
    "feature_image = soup.find('div', class_='floating_text_area')\n",
    "a = feature_image.find('a')\n",
    "href = a['href']\n",
    "featured_image_url = (f'https://data-class-jpl-space.s3.amazonaws.com/JPL_Space/{href}')"
   ]
  },
  {
   "cell_type": "code",
   "execution_count": 9,
   "metadata": {},
   "outputs": [],
   "source": [
    "#Add feature image URL to mars.dict dictionary\n",
    "mars_dict['featured_image_url'] = featured_image_url"
   ]
  },
  {
   "cell_type": "code",
   "execution_count": 10,
   "metadata": {},
   "outputs": [],
   "source": [
    "#Shutdown splinter instance\n",
    "browser.quit()"
   ]
  },
  {
   "cell_type": "code",
   "execution_count": 11,
   "metadata": {},
   "outputs": [],
   "source": [
    "#URL to scrape tables containing Mars data\n",
    "facts_url = 'https://space-facts.com/mars/'\n",
    "\n",
    "#Scrape tables from facts_url using pandas\n",
    "tables = pd.read_html(facts_url)"
   ]
  },
  {
   "cell_type": "code",
   "execution_count": 12,
   "metadata": {},
   "outputs": [],
   "source": [
    "#Convert first table to pandas dataframe\n",
    "mars_df = tables[0]\n",
    "\n",
    "#Rename columns of dataframe and reset index to Characteristic column\n",
    "mars_df.rename(columns={ 0: 'Characteristic', 1: \"Mars\"}, inplace=True)\n",
    "mars_df.set_index('Characteristic', inplace=True)\n",
    "\n",
    "#Generate html table\n",
    "mars_html_table = mars_df.to_html()\n",
    "\n",
    "#Add to mars_dict\n",
    "mars_dict['mars facts'] = mars_html_table"
   ]
  },
  {
   "cell_type": "code",
   "execution_count": 13,
   "metadata": {},
   "outputs": [
    {
     "name": "stderr",
     "output_type": "stream",
     "text": [
      "C:\\Users\\10pai\\anaconda3\\envs\\PythonData\\lib\\site-packages\\splinter\\driver\\webdriver\\__init__.py:493: FutureWarning: browser.find_link_by_partial_text is deprecated. Use browser.links.find_by_partial_text instead.\n",
      "  FutureWarning,\n"
     ]
    }
   ],
   "source": [
    "#Set-up splinter instance\n",
    "browser = Browser('chrome', **executable_path, headless=False)\n",
    "\n",
    "#Visit astrogeology.usgs.gov website\n",
    "hemi_url = 'https://astrogeology.usgs.gov/search/results?q=hemisphere+enhanced&k1=target&v1=Mars'\n",
    "browser.visit(hemi_url)\n",
    "\n",
    "#Create Beautiful Soup object to scrape JPL images\n",
    "html = browser.html\n",
    "soup = bs(html, 'html.parser')\n",
    "results = soup.find_all('div', class_='description')\n",
    "\n",
    "\n",
    "#Create list to store hemi URLs\n",
    "mars_hemi_image_urls = []\n",
    "\n",
    "#Loop through each of the four hemisphere pages\n",
    "for hemis in results:\n",
    "    hemi = hemis.find('h3').text\n",
    "    browser.click_link_by_partial_text(hemi)\n",
    "    html = browser.html\n",
    "    soup = bs(html, 'html.parser')\n",
    "    hemi_images = soup.find('div', class_='downloads')\n",
    "    hemi_a = hemi_images.find('a')\n",
    "    hemi_href = hemi_a['href']\n",
    "    hemi_dict = {\n",
    "        'title' : hemi,\n",
    "        'img_url' : hemi_href\n",
    "    }\n",
    "    mars_hemi_image_urls.append(hemi_dict)\n",
    "    browser.back()"
   ]
  },
  {
   "cell_type": "code",
   "execution_count": 14,
   "metadata": {},
   "outputs": [],
   "source": [
    "#Add hemi image urls to mars_dict\n",
    "mars_dict['mars_hemi_image_urls'] = mars_hemi_image_urls"
   ]
  },
  {
   "cell_type": "code",
   "execution_count": 15,
   "metadata": {},
   "outputs": [],
   "source": [
    "#Shutdown splinter instance\n",
    "browser.quit()"
   ]
  }
 ],
 "metadata": {
  "kernelspec": {
   "display_name": "Python [conda env:PythonData] *",
   "language": "python",
   "name": "conda-env-PythonData-py"
  },
  "language_info": {
   "codemirror_mode": {
    "name": "ipython",
    "version": 3
   },
   "file_extension": ".py",
   "mimetype": "text/x-python",
   "name": "python",
   "nbconvert_exporter": "python",
   "pygments_lexer": "ipython3",
   "version": "3.6.10"
  }
 },
 "nbformat": 4,
 "nbformat_minor": 4
}
